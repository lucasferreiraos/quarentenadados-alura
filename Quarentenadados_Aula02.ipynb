{
  "nbformat": 4,
  "nbformat_minor": 0,
  "metadata": {
    "colab": {
      "name": "Quarentenadados_Aula02.ipynb",
      "provenance": [],
      "collapsed_sections": [],
      "authorship_tag": "ABX9TyNamHI15k+jcdRvxztSNeva",
      "include_colab_link": true
    },
    "kernelspec": {
      "name": "python3",
      "display_name": "Python 3"
    }
  },
  "cells": [
    {
      "cell_type": "markdown",
      "metadata": {
        "id": "view-in-github",
        "colab_type": "text"
      },
      "source": [
        "<a href=\"https://colab.research.google.com/github/lucasferreiraos/quarentenadados-alura/blob/master/Quarentenadados_Aula02.ipynb\" target=\"_parent\"><img src=\"https://colab.research.google.com/assets/colab-badge.svg\" alt=\"Open In Colab\"/></a>"
      ]
    },
    {
      "cell_type": "code",
      "metadata": {
        "id": "ddW0yOEfxVOZ",
        "colab_type": "code",
        "colab": {
          "base_uri": "https://localhost:8080/",
          "height": 51
        },
        "outputId": "46491ccb-7398-462f-90e7-8589e82017b1"
      },
      "source": [
        "import pandas as pd\n",
        "import matplotlib.pyplot as plt\n",
        "import seaborn as sns"
      ],
      "execution_count": null,
      "outputs": [
        {
          "output_type": "stream",
          "text": [
            "/usr/local/lib/python3.6/dist-packages/statsmodels/tools/_testing.py:19: FutureWarning: pandas.util.testing is deprecated. Use the functions in the public API at pandas.testing instead.\n",
            "  import pandas.util.testing as tm\n"
          ],
          "name": "stderr"
        }
      ]
    },
    {
      "cell_type": "code",
      "metadata": {
        "id": "pBM7Z6SCFLJz",
        "colab_type": "code",
        "colab": {}
      },
      "source": [
        "filmes = pd.read_csv('https://raw.githubusercontent.com/alura-cursos/introducao-a-data-science/master/aula0/ml-latest-small/movies.csv')\n",
        "avaliacoes = pd.read_csv('https://raw.githubusercontent.com/alura-cursos/introducao-a-data-science/master/aula0/ml-latest-small/ratings.csv')\n",
        "\n",
        "avaliacoes.columns = ['usuarioId', 'filmeId', 'avaliacao', 'momento']\n",
        "filmes.columns = ['filmeId', 'titulo', 'genero']"
      ],
      "execution_count": null,
      "outputs": []
    },
    {
      "cell_type": "code",
      "metadata": {
        "id": "_o2vMI0WGJSo",
        "colab_type": "code",
        "colab": {
          "base_uri": "https://localhost:8080/",
          "height": 204
        },
        "outputId": "0c651677-2e9f-4180-b768-01aa2334211d"
      },
      "source": [
        "avaliacoes.head()"
      ],
      "execution_count": null,
      "outputs": [
        {
          "output_type": "execute_result",
          "data": {
            "text/html": [
              "<div>\n",
              "<style scoped>\n",
              "    .dataframe tbody tr th:only-of-type {\n",
              "        vertical-align: middle;\n",
              "    }\n",
              "\n",
              "    .dataframe tbody tr th {\n",
              "        vertical-align: top;\n",
              "    }\n",
              "\n",
              "    .dataframe thead th {\n",
              "        text-align: right;\n",
              "    }\n",
              "</style>\n",
              "<table border=\"1\" class=\"dataframe\">\n",
              "  <thead>\n",
              "    <tr style=\"text-align: right;\">\n",
              "      <th></th>\n",
              "      <th>usuarioId</th>\n",
              "      <th>filmeId</th>\n",
              "      <th>avaliacao</th>\n",
              "      <th>momento</th>\n",
              "    </tr>\n",
              "  </thead>\n",
              "  <tbody>\n",
              "    <tr>\n",
              "      <th>0</th>\n",
              "      <td>1</td>\n",
              "      <td>1</td>\n",
              "      <td>4.0</td>\n",
              "      <td>964982703</td>\n",
              "    </tr>\n",
              "    <tr>\n",
              "      <th>1</th>\n",
              "      <td>1</td>\n",
              "      <td>3</td>\n",
              "      <td>4.0</td>\n",
              "      <td>964981247</td>\n",
              "    </tr>\n",
              "    <tr>\n",
              "      <th>2</th>\n",
              "      <td>1</td>\n",
              "      <td>6</td>\n",
              "      <td>4.0</td>\n",
              "      <td>964982224</td>\n",
              "    </tr>\n",
              "    <tr>\n",
              "      <th>3</th>\n",
              "      <td>1</td>\n",
              "      <td>47</td>\n",
              "      <td>5.0</td>\n",
              "      <td>964983815</td>\n",
              "    </tr>\n",
              "    <tr>\n",
              "      <th>4</th>\n",
              "      <td>1</td>\n",
              "      <td>50</td>\n",
              "      <td>5.0</td>\n",
              "      <td>964982931</td>\n",
              "    </tr>\n",
              "  </tbody>\n",
              "</table>\n",
              "</div>"
            ],
            "text/plain": [
              "   usuarioId  filmeId  avaliacao    momento\n",
              "0          1        1        4.0  964982703\n",
              "1          1        3        4.0  964981247\n",
              "2          1        6        4.0  964982224\n",
              "3          1       47        5.0  964983815\n",
              "4          1       50        5.0  964982931"
            ]
          },
          "metadata": {
            "tags": []
          },
          "execution_count": 3
        }
      ]
    },
    {
      "cell_type": "code",
      "metadata": {
        "id": "pO3wBipwGN5F",
        "colab_type": "code",
        "colab": {
          "base_uri": "https://localhost:8080/",
          "height": 204
        },
        "outputId": "53960a18-9604-407e-fec3-6d66d2e525a8"
      },
      "source": [
        "filmes.head()"
      ],
      "execution_count": null,
      "outputs": [
        {
          "output_type": "execute_result",
          "data": {
            "text/html": [
              "<div>\n",
              "<style scoped>\n",
              "    .dataframe tbody tr th:only-of-type {\n",
              "        vertical-align: middle;\n",
              "    }\n",
              "\n",
              "    .dataframe tbody tr th {\n",
              "        vertical-align: top;\n",
              "    }\n",
              "\n",
              "    .dataframe thead th {\n",
              "        text-align: right;\n",
              "    }\n",
              "</style>\n",
              "<table border=\"1\" class=\"dataframe\">\n",
              "  <thead>\n",
              "    <tr style=\"text-align: right;\">\n",
              "      <th></th>\n",
              "      <th>filmeId</th>\n",
              "      <th>titulo</th>\n",
              "      <th>genero</th>\n",
              "    </tr>\n",
              "  </thead>\n",
              "  <tbody>\n",
              "    <tr>\n",
              "      <th>0</th>\n",
              "      <td>1</td>\n",
              "      <td>Toy Story (1995)</td>\n",
              "      <td>Adventure|Animation|Children|Comedy|Fantasy</td>\n",
              "    </tr>\n",
              "    <tr>\n",
              "      <th>1</th>\n",
              "      <td>2</td>\n",
              "      <td>Jumanji (1995)</td>\n",
              "      <td>Adventure|Children|Fantasy</td>\n",
              "    </tr>\n",
              "    <tr>\n",
              "      <th>2</th>\n",
              "      <td>3</td>\n",
              "      <td>Grumpier Old Men (1995)</td>\n",
              "      <td>Comedy|Romance</td>\n",
              "    </tr>\n",
              "    <tr>\n",
              "      <th>3</th>\n",
              "      <td>4</td>\n",
              "      <td>Waiting to Exhale (1995)</td>\n",
              "      <td>Comedy|Drama|Romance</td>\n",
              "    </tr>\n",
              "    <tr>\n",
              "      <th>4</th>\n",
              "      <td>5</td>\n",
              "      <td>Father of the Bride Part II (1995)</td>\n",
              "      <td>Comedy</td>\n",
              "    </tr>\n",
              "  </tbody>\n",
              "</table>\n",
              "</div>"
            ],
            "text/plain": [
              "   filmeId  ...                                       genero\n",
              "0        1  ...  Adventure|Animation|Children|Comedy|Fantasy\n",
              "1        2  ...                   Adventure|Children|Fantasy\n",
              "2        3  ...                               Comedy|Romance\n",
              "3        4  ...                         Comedy|Drama|Romance\n",
              "4        5  ...                                       Comedy\n",
              "\n",
              "[5 rows x 3 columns]"
            ]
          },
          "metadata": {
            "tags": []
          },
          "execution_count": 4
        }
      ]
    },
    {
      "cell_type": "code",
      "metadata": {
        "id": "Ze-GTK4aGXEJ",
        "colab_type": "code",
        "colab": {
          "base_uri": "https://localhost:8080/",
          "height": 204
        },
        "outputId": "af1bb3a3-84e1-4d24-8ceb-1a1840e9f0af"
      },
      "source": [
        "notas_medias_por_filme = avaliacoes.groupby('filmeId')['avaliacao'].mean()\n",
        "filmes = filmes.join(notas_medias_por_filme, on='filmeId')\n",
        "filmes.rename(columns={'avaliacao': 'mediaAvaliacao'}, inplace=True)\n",
        "filmes.head()"
      ],
      "execution_count": null,
      "outputs": [
        {
          "output_type": "execute_result",
          "data": {
            "text/html": [
              "<div>\n",
              "<style scoped>\n",
              "    .dataframe tbody tr th:only-of-type {\n",
              "        vertical-align: middle;\n",
              "    }\n",
              "\n",
              "    .dataframe tbody tr th {\n",
              "        vertical-align: top;\n",
              "    }\n",
              "\n",
              "    .dataframe thead th {\n",
              "        text-align: right;\n",
              "    }\n",
              "</style>\n",
              "<table border=\"1\" class=\"dataframe\">\n",
              "  <thead>\n",
              "    <tr style=\"text-align: right;\">\n",
              "      <th></th>\n",
              "      <th>filmeId</th>\n",
              "      <th>titulo</th>\n",
              "      <th>genero</th>\n",
              "      <th>mediaAvaliacao</th>\n",
              "    </tr>\n",
              "  </thead>\n",
              "  <tbody>\n",
              "    <tr>\n",
              "      <th>0</th>\n",
              "      <td>1</td>\n",
              "      <td>Toy Story (1995)</td>\n",
              "      <td>Adventure|Animation|Children|Comedy|Fantasy</td>\n",
              "      <td>3.920930</td>\n",
              "    </tr>\n",
              "    <tr>\n",
              "      <th>1</th>\n",
              "      <td>2</td>\n",
              "      <td>Jumanji (1995)</td>\n",
              "      <td>Adventure|Children|Fantasy</td>\n",
              "      <td>3.431818</td>\n",
              "    </tr>\n",
              "    <tr>\n",
              "      <th>2</th>\n",
              "      <td>3</td>\n",
              "      <td>Grumpier Old Men (1995)</td>\n",
              "      <td>Comedy|Romance</td>\n",
              "      <td>3.259615</td>\n",
              "    </tr>\n",
              "    <tr>\n",
              "      <th>3</th>\n",
              "      <td>4</td>\n",
              "      <td>Waiting to Exhale (1995)</td>\n",
              "      <td>Comedy|Drama|Romance</td>\n",
              "      <td>2.357143</td>\n",
              "    </tr>\n",
              "    <tr>\n",
              "      <th>4</th>\n",
              "      <td>5</td>\n",
              "      <td>Father of the Bride Part II (1995)</td>\n",
              "      <td>Comedy</td>\n",
              "      <td>3.071429</td>\n",
              "    </tr>\n",
              "  </tbody>\n",
              "</table>\n",
              "</div>"
            ],
            "text/plain": [
              "   filmeId  ... mediaAvaliacao\n",
              "0        1  ...       3.920930\n",
              "1        2  ...       3.431818\n",
              "2        3  ...       3.259615\n",
              "3        4  ...       2.357143\n",
              "4        5  ...       3.071429\n",
              "\n",
              "[5 rows x 4 columns]"
            ]
          },
          "metadata": {
            "tags": []
          },
          "execution_count": 5
        }
      ]
    },
    {
      "cell_type": "code",
      "metadata": {
        "id": "gY9QTSLiGmea",
        "colab_type": "code",
        "colab": {}
      },
      "source": [
        "total_avaliacoes_por_filme = avaliacoes.groupby('filmeId')['avaliacao'].count()\n",
        "filmes = filmes.join(total_avaliacoes_por_filme, on='filmeId')\n",
        "filmes = filmes.rename(columns={'avaliacao': 'totalAvaliacoes'})\n",
        "filmes['totalAvaliacoes'] = filmes['totalAvaliacoes'].fillna(-1).astype(int)"
      ],
      "execution_count": null,
      "outputs": []
    },
    {
      "cell_type": "code",
      "metadata": {
        "id": "T0ZA2SK0HMl4",
        "colab_type": "code",
        "colab": {
          "base_uri": "https://localhost:8080/",
          "height": 204
        },
        "outputId": "be48891d-0927-43f1-b2f0-24043983d791"
      },
      "source": [
        "decimals = 2\n",
        "filmes['mediaAvaliacao'] = filmes['mediaAvaliacao'].apply(lambda x: round(x, decimals))\n",
        "filmes.head()"
      ],
      "execution_count": null,
      "outputs": [
        {
          "output_type": "execute_result",
          "data": {
            "text/html": [
              "<div>\n",
              "<style scoped>\n",
              "    .dataframe tbody tr th:only-of-type {\n",
              "        vertical-align: middle;\n",
              "    }\n",
              "\n",
              "    .dataframe tbody tr th {\n",
              "        vertical-align: top;\n",
              "    }\n",
              "\n",
              "    .dataframe thead th {\n",
              "        text-align: right;\n",
              "    }\n",
              "</style>\n",
              "<table border=\"1\" class=\"dataframe\">\n",
              "  <thead>\n",
              "    <tr style=\"text-align: right;\">\n",
              "      <th></th>\n",
              "      <th>filmeId</th>\n",
              "      <th>titulo</th>\n",
              "      <th>genero</th>\n",
              "      <th>mediaAvaliacao</th>\n",
              "      <th>totalAvaliacoes</th>\n",
              "    </tr>\n",
              "  </thead>\n",
              "  <tbody>\n",
              "    <tr>\n",
              "      <th>0</th>\n",
              "      <td>1</td>\n",
              "      <td>Toy Story (1995)</td>\n",
              "      <td>Adventure|Animation|Children|Comedy|Fantasy</td>\n",
              "      <td>3.92</td>\n",
              "      <td>215</td>\n",
              "    </tr>\n",
              "    <tr>\n",
              "      <th>1</th>\n",
              "      <td>2</td>\n",
              "      <td>Jumanji (1995)</td>\n",
              "      <td>Adventure|Children|Fantasy</td>\n",
              "      <td>3.43</td>\n",
              "      <td>110</td>\n",
              "    </tr>\n",
              "    <tr>\n",
              "      <th>2</th>\n",
              "      <td>3</td>\n",
              "      <td>Grumpier Old Men (1995)</td>\n",
              "      <td>Comedy|Romance</td>\n",
              "      <td>3.26</td>\n",
              "      <td>52</td>\n",
              "    </tr>\n",
              "    <tr>\n",
              "      <th>3</th>\n",
              "      <td>4</td>\n",
              "      <td>Waiting to Exhale (1995)</td>\n",
              "      <td>Comedy|Drama|Romance</td>\n",
              "      <td>2.36</td>\n",
              "      <td>7</td>\n",
              "    </tr>\n",
              "    <tr>\n",
              "      <th>4</th>\n",
              "      <td>5</td>\n",
              "      <td>Father of the Bride Part II (1995)</td>\n",
              "      <td>Comedy</td>\n",
              "      <td>3.07</td>\n",
              "      <td>49</td>\n",
              "    </tr>\n",
              "  </tbody>\n",
              "</table>\n",
              "</div>"
            ],
            "text/plain": [
              "   filmeId                              titulo  ... mediaAvaliacao  totalAvaliacoes\n",
              "0        1                    Toy Story (1995)  ...           3.92              215\n",
              "1        2                      Jumanji (1995)  ...           3.43              110\n",
              "2        3             Grumpier Old Men (1995)  ...           3.26               52\n",
              "3        4            Waiting to Exhale (1995)  ...           2.36                7\n",
              "4        5  Father of the Bride Part II (1995)  ...           3.07               49\n",
              "\n",
              "[5 rows x 5 columns]"
            ]
          },
          "metadata": {
            "tags": []
          },
          "execution_count": 7
        }
      ]
    },
    {
      "cell_type": "markdown",
      "metadata": {
        "id": "GTDO628vx00G",
        "colab_type": "text"
      },
      "source": [
        "### Desafio 01: Rotacionar os ticks (os nomes dos gêneros)\n"
      ]
    },
    {
      "cell_type": "code",
      "metadata": {
        "id": "Z3WSODktx_A0",
        "colab_type": "code",
        "colab": {
          "base_uri": "https://localhost:8080/",
          "height": 461
        },
        "outputId": "1c0f9944-fca0-4cb8-e0d5-14fbd51b0e48"
      },
      "source": [
        "filmes_por_genero = filmes['genero'].str.get_dummies('|').sum().sort_values(ascending=False)\n",
        "\n",
        "plt.figure(figsize=(12, 6))\n",
        "sns.set_style(\"whitegrid\")\n",
        "plt.title(\"Quantidade de filmes por gênero\")\n",
        "\n",
        "my_bar = sns.barplot(\n",
        "    x=filmes_por_genero.index,\n",
        "    y=filmes_por_genero.values,\n",
        "    palette=sns.color_palette('BuGn_r', n_colors=len(filmes_por_genero)+4),\n",
        ")\n",
        "my_bar.set(ylabel='Filmes')\n",
        "plt.xticks(rotation=60)\n",
        "plt.show()"
      ],
      "execution_count": null,
      "outputs": [
        {
          "output_type": "display_data",
          "data": {
            "image/png": "[encoded data removed]",
            "text/plain": [
              "<Figure size 864x432 with 1 Axes>"
            ]
          },
          "metadata": {
            "tags": [],
            "needs_background": "light"
          }
        }
      ]
    },
    {
      "cell_type": "markdown",
      "metadata": {
        "id": "KCWB-EwMb0_4",
        "colab_type": "text"
      },
      "source": [
        "## Desafio 02: Comparar outros filmes com notas próximas e achar distribuições bem diferentes\n",
        "\n",
        "A primeira coisa que decidi fazer foi observar uma parcela dos dados de forma ordenada a fim de facilitar a escolha dos filmes que eu faria a comparação."
      ]
    },
    {
      "cell_type": "code",
      "metadata": {
        "id": "jbVoQA_C4FME",
        "colab_type": "code",
        "colab": {
          "base_uri": "https://localhost:8080/",
          "height": 1000
        },
        "outputId": "247d6d73-43bb-43d1-9612-5b31986d17eb"
      },
      "source": [
        "filmes[50:100].sort_values(by='mediaAvaliacao', ascending=False)"
      ],
      "execution_count": null,
      "outputs": [
        {
          "output_type": "execute_result",
          "data": {
            "text/html": [
              "<div>\n",
              "<style scoped>\n",
              "    .dataframe tbody tr th:only-of-type {\n",
              "        vertical-align: middle;\n",
              "    }\n",
              "\n",
              "    .dataframe tbody tr th {\n",
              "        vertical-align: top;\n",
              "    }\n",
              "\n",
              "    .dataframe thead th {\n",
              "        text-align: right;\n",
              "    }\n",
              "</style>\n",
              "<table border=\"1\" class=\"dataframe\">\n",
              "  <thead>\n",
              "    <tr style=\"text-align: right;\">\n",
              "      <th></th>\n",
              "      <th>filmeId</th>\n",
              "      <th>titulo</th>\n",
              "      <th>genero</th>\n",
              "      <th>mediaAvaliacao</th>\n",
              "      <th>totalAvaliacoes</th>\n",
              "    </tr>\n",
              "  </thead>\n",
              "  <tbody>\n",
              "    <tr>\n",
              "      <th>87</th>\n",
              "      <td>99</td>\n",
              "      <td>Heidi Fleiss: Hollywood Madam (1995)</td>\n",
              "      <td>Documentary</td>\n",
              "      <td>5.00</td>\n",
              "      <td>2</td>\n",
              "    </tr>\n",
              "    <tr>\n",
              "      <th>98</th>\n",
              "      <td>111</td>\n",
              "      <td>Taxi Driver (1976)</td>\n",
              "      <td>Crime|Drama|Thriller</td>\n",
              "      <td>4.11</td>\n",
              "      <td>104</td>\n",
              "    </tr>\n",
              "    <tr>\n",
              "      <th>52</th>\n",
              "      <td>58</td>\n",
              "      <td>Postman, The (Postino, Il) (1994)</td>\n",
              "      <td>Comedy|Drama|Romance</td>\n",
              "      <td>4.03</td>\n",
              "      <td>37</td>\n",
              "    </tr>\n",
              "    <tr>\n",
              "      <th>97</th>\n",
              "      <td>110</td>\n",
              "      <td>Braveheart (1995)</td>\n",
              "      <td>Action|Drama|War</td>\n",
              "      <td>4.03</td>\n",
              "      <td>237</td>\n",
              "    </tr>\n",
              "    <tr>\n",
              "      <th>50</th>\n",
              "      <td>55</td>\n",
              "      <td>Georgia (1995)</td>\n",
              "      <td>Drama</td>\n",
              "      <td>4.00</td>\n",
              "      <td>1</td>\n",
              "    </tr>\n",
              "    <tr>\n",
              "      <th>94</th>\n",
              "      <td>106</td>\n",
              "      <td>Nobody Loves Me (Keiner liebt mich) (1994)</td>\n",
              "      <td>Comedy|Drama</td>\n",
              "      <td>4.00</td>\n",
              "      <td>1</td>\n",
              "    </tr>\n",
              "    <tr>\n",
              "      <th>66</th>\n",
              "      <td>74</td>\n",
              "      <td>Bed of Roses (1996)</td>\n",
              "      <td>Drama|Romance</td>\n",
              "      <td>4.00</td>\n",
              "      <td>8</td>\n",
              "    </tr>\n",
              "    <tr>\n",
              "      <th>69</th>\n",
              "      <td>77</td>\n",
              "      <td>Nico Icon (1995)</td>\n",
              "      <td>Documentary</td>\n",
              "      <td>4.00</td>\n",
              "      <td>1</td>\n",
              "    </tr>\n",
              "    <tr>\n",
              "      <th>72</th>\n",
              "      <td>80</td>\n",
              "      <td>White Balloon, The (Badkonake sefid) (1995)</td>\n",
              "      <td>Children|Drama</td>\n",
              "      <td>4.00</td>\n",
              "      <td>2</td>\n",
              "    </tr>\n",
              "    <tr>\n",
              "      <th>96</th>\n",
              "      <td>108</td>\n",
              "      <td>Catwalk (1996)</td>\n",
              "      <td>Documentary</td>\n",
              "      <td>4.00</td>\n",
              "      <td>1</td>\n",
              "    </tr>\n",
              "    <tr>\n",
              "      <th>77</th>\n",
              "      <td>86</td>\n",
              "      <td>White Squall (1996)</td>\n",
              "      <td>Action|Adventure|Drama</td>\n",
              "      <td>3.97</td>\n",
              "      <td>15</td>\n",
              "    </tr>\n",
              "    <tr>\n",
              "      <th>83</th>\n",
              "      <td>94</td>\n",
              "      <td>Beautiful Girls (1996)</td>\n",
              "      <td>Comedy|Drama|Romance</td>\n",
              "      <td>3.95</td>\n",
              "      <td>10</td>\n",
              "    </tr>\n",
              "    <tr>\n",
              "      <th>86</th>\n",
              "      <td>97</td>\n",
              "      <td>Hate (Haine, La) (1995)</td>\n",
              "      <td>Crime|Drama</td>\n",
              "      <td>3.90</td>\n",
              "      <td>10</td>\n",
              "    </tr>\n",
              "    <tr>\n",
              "      <th>74</th>\n",
              "      <td>82</td>\n",
              "      <td>Antonia's Line (Antonia) (1995)</td>\n",
              "      <td>Comedy|Drama</td>\n",
              "      <td>3.88</td>\n",
              "      <td>8</td>\n",
              "    </tr>\n",
              "    <tr>\n",
              "      <th>76</th>\n",
              "      <td>85</td>\n",
              "      <td>Angels and Insects (1995)</td>\n",
              "      <td>Drama|Romance</td>\n",
              "      <td>3.86</td>\n",
              "      <td>7</td>\n",
              "    </tr>\n",
              "    <tr>\n",
              "      <th>89</th>\n",
              "      <td>101</td>\n",
              "      <td>Bottle Rocket (1996)</td>\n",
              "      <td>Adventure|Comedy|Crime|Romance</td>\n",
              "      <td>3.78</td>\n",
              "      <td>23</td>\n",
              "    </tr>\n",
              "    <tr>\n",
              "      <th>61</th>\n",
              "      <td>69</td>\n",
              "      <td>Friday (1995)</td>\n",
              "      <td>Comedy</td>\n",
              "      <td>3.77</td>\n",
              "      <td>20</td>\n",
              "    </tr>\n",
              "    <tr>\n",
              "      <th>54</th>\n",
              "      <td>61</td>\n",
              "      <td>Eye for an Eye (1996)</td>\n",
              "      <td>Drama|Thriller</td>\n",
              "      <td>3.75</td>\n",
              "      <td>6</td>\n",
              "    </tr>\n",
              "    <tr>\n",
              "      <th>55</th>\n",
              "      <td>62</td>\n",
              "      <td>Mr. Holland's Opus (1995)</td>\n",
              "      <td>Drama</td>\n",
              "      <td>3.71</td>\n",
              "      <td>80</td>\n",
              "    </tr>\n",
              "    <tr>\n",
              "      <th>99</th>\n",
              "      <td>112</td>\n",
              "      <td>Rumble in the Bronx (Hont faan kui) (1995)</td>\n",
              "      <td>Action|Adventure|Comedy|Crime</td>\n",
              "      <td>3.54</td>\n",
              "      <td>46</td>\n",
              "    </tr>\n",
              "    <tr>\n",
              "      <th>62</th>\n",
              "      <td>70</td>\n",
              "      <td>From Dusk Till Dawn (1996)</td>\n",
              "      <td>Action|Comedy|Horror|Thriller</td>\n",
              "      <td>3.51</td>\n",
              "      <td>55</td>\n",
              "    </tr>\n",
              "    <tr>\n",
              "      <th>85</th>\n",
              "      <td>96</td>\n",
              "      <td>In the Bleak Midwinter (1995)</td>\n",
              "      <td>Comedy|Drama</td>\n",
              "      <td>3.50</td>\n",
              "      <td>1</td>\n",
              "    </tr>\n",
              "    <tr>\n",
              "      <th>65</th>\n",
              "      <td>73</td>\n",
              "      <td>Misérables, Les (1995)</td>\n",
              "      <td>Drama|War</td>\n",
              "      <td>3.46</td>\n",
              "      <td>13</td>\n",
              "    </tr>\n",
              "    <tr>\n",
              "      <th>92</th>\n",
              "      <td>104</td>\n",
              "      <td>Happy Gilmore (1996)</td>\n",
              "      <td>Comedy</td>\n",
              "      <td>3.44</td>\n",
              "      <td>99</td>\n",
              "    </tr>\n",
              "    <tr>\n",
              "      <th>68</th>\n",
              "      <td>76</td>\n",
              "      <td>Screamers (1995)</td>\n",
              "      <td>Action|Sci-Fi|Thriller</td>\n",
              "      <td>3.40</td>\n",
              "      <td>15</td>\n",
              "    </tr>\n",
              "    <tr>\n",
              "      <th>60</th>\n",
              "      <td>68</td>\n",
              "      <td>French Twist (Gazon maudit) (1995)</td>\n",
              "      <td>Comedy|Romance</td>\n",
              "      <td>3.40</td>\n",
              "      <td>5</td>\n",
              "    </tr>\n",
              "    <tr>\n",
              "      <th>95</th>\n",
              "      <td>107</td>\n",
              "      <td>Muppet Treasure Island (1996)</td>\n",
              "      <td>Adventure|Children|Comedy|Musical</td>\n",
              "      <td>3.33</td>\n",
              "      <td>26</td>\n",
              "    </tr>\n",
              "    <tr>\n",
              "      <th>70</th>\n",
              "      <td>78</td>\n",
              "      <td>Crossing Guard, The (1995)</td>\n",
              "      <td>Action|Crime|Drama|Thriller</td>\n",
              "      <td>3.33</td>\n",
              "      <td>3</td>\n",
              "    </tr>\n",
              "    <tr>\n",
              "      <th>93</th>\n",
              "      <td>105</td>\n",
              "      <td>Bridges of Madison County, The (1995)</td>\n",
              "      <td>Drama|Romance</td>\n",
              "      <td>3.28</td>\n",
              "      <td>23</td>\n",
              "    </tr>\n",
              "    <tr>\n",
              "      <th>80</th>\n",
              "      <td>89</td>\n",
              "      <td>Nick of Time (1995)</td>\n",
              "      <td>Action|Thriller</td>\n",
              "      <td>3.25</td>\n",
              "      <td>10</td>\n",
              "    </tr>\n",
              "    <tr>\n",
              "      <th>53</th>\n",
              "      <td>60</td>\n",
              "      <td>Indian in the Cupboard, The (1995)</td>\n",
              "      <td>Adventure|Children|Fantasy</td>\n",
              "      <td>3.24</td>\n",
              "      <td>34</td>\n",
              "    </tr>\n",
              "    <tr>\n",
              "      <th>64</th>\n",
              "      <td>72</td>\n",
              "      <td>Kicking and Screaming (1995)</td>\n",
              "      <td>Comedy|Drama</td>\n",
              "      <td>3.21</td>\n",
              "      <td>7</td>\n",
              "    </tr>\n",
              "    <tr>\n",
              "      <th>79</th>\n",
              "      <td>88</td>\n",
              "      <td>Black Sheep (1996)</td>\n",
              "      <td>Comedy</td>\n",
              "      <td>3.16</td>\n",
              "      <td>16</td>\n",
              "    </tr>\n",
              "    <tr>\n",
              "      <th>73</th>\n",
              "      <td>81</td>\n",
              "      <td>Things to Do in Denver When You're Dead (1995)</td>\n",
              "      <td>Crime|Drama|Romance</td>\n",
              "      <td>3.11</td>\n",
              "      <td>14</td>\n",
              "    </tr>\n",
              "    <tr>\n",
              "      <th>51</th>\n",
              "      <td>57</td>\n",
              "      <td>Home for the Holidays (1995)</td>\n",
              "      <td>Drama</td>\n",
              "      <td>3.06</td>\n",
              "      <td>8</td>\n",
              "    </tr>\n",
              "    <tr>\n",
              "      <th>84</th>\n",
              "      <td>95</td>\n",
              "      <td>Broken Arrow (1996)</td>\n",
              "      <td>Action|Adventure|Thriller</td>\n",
              "      <td>3.02</td>\n",
              "      <td>84</td>\n",
              "    </tr>\n",
              "    <tr>\n",
              "      <th>75</th>\n",
              "      <td>83</td>\n",
              "      <td>Once Upon a Time... When We Were Colored (1995)</td>\n",
              "      <td>Drama|Romance</td>\n",
              "      <td>3.00</td>\n",
              "      <td>1</td>\n",
              "    </tr>\n",
              "    <tr>\n",
              "      <th>91</th>\n",
              "      <td>103</td>\n",
              "      <td>Unforgettable (1996)</td>\n",
              "      <td>Mystery|Sci-Fi|Thriller</td>\n",
              "      <td>3.00</td>\n",
              "      <td>3</td>\n",
              "    </tr>\n",
              "    <tr>\n",
              "      <th>82</th>\n",
              "      <td>93</td>\n",
              "      <td>Vampire in Brooklyn (1995)</td>\n",
              "      <td>Comedy|Horror|Romance</td>\n",
              "      <td>2.83</td>\n",
              "      <td>9</td>\n",
              "    </tr>\n",
              "    <tr>\n",
              "      <th>88</th>\n",
              "      <td>100</td>\n",
              "      <td>City Hall (1996)</td>\n",
              "      <td>Drama|Thriller</td>\n",
              "      <td>2.79</td>\n",
              "      <td>14</td>\n",
              "    </tr>\n",
              "    <tr>\n",
              "      <th>71</th>\n",
              "      <td>79</td>\n",
              "      <td>Juror, The (1996)</td>\n",
              "      <td>Drama|Thriller</td>\n",
              "      <td>2.76</td>\n",
              "      <td>17</td>\n",
              "    </tr>\n",
              "    <tr>\n",
              "      <th>56</th>\n",
              "      <td>63</td>\n",
              "      <td>Don't Be a Menace to South Central While Drink...</td>\n",
              "      <td>Comedy|Crime</td>\n",
              "      <td>2.71</td>\n",
              "      <td>7</td>\n",
              "    </tr>\n",
              "    <tr>\n",
              "      <th>81</th>\n",
              "      <td>92</td>\n",
              "      <td>Mary Reilly (1996)</td>\n",
              "      <td>Drama|Horror|Thriller</td>\n",
              "      <td>2.62</td>\n",
              "      <td>8</td>\n",
              "    </tr>\n",
              "    <tr>\n",
              "      <th>58</th>\n",
              "      <td>65</td>\n",
              "      <td>Bio-Dome (1996)</td>\n",
              "      <td>Comedy</td>\n",
              "      <td>2.53</td>\n",
              "      <td>31</td>\n",
              "    </tr>\n",
              "    <tr>\n",
              "      <th>78</th>\n",
              "      <td>87</td>\n",
              "      <td>Dunston Checks In (1996)</td>\n",
              "      <td>Children|Comedy</td>\n",
              "      <td>2.50</td>\n",
              "      <td>7</td>\n",
              "    </tr>\n",
              "    <tr>\n",
              "      <th>59</th>\n",
              "      <td>66</td>\n",
              "      <td>Lawnmower Man 2: Beyond Cyberspace (1996)</td>\n",
              "      <td>Action|Sci-Fi|Thriller</td>\n",
              "      <td>2.50</td>\n",
              "      <td>9</td>\n",
              "    </tr>\n",
              "    <tr>\n",
              "      <th>90</th>\n",
              "      <td>102</td>\n",
              "      <td>Mr. Wrong (1996)</td>\n",
              "      <td>Comedy</td>\n",
              "      <td>2.40</td>\n",
              "      <td>5</td>\n",
              "    </tr>\n",
              "    <tr>\n",
              "      <th>67</th>\n",
              "      <td>75</td>\n",
              "      <td>Big Bully (1996)</td>\n",
              "      <td>Comedy|Drama</td>\n",
              "      <td>2.20</td>\n",
              "      <td>5</td>\n",
              "    </tr>\n",
              "    <tr>\n",
              "      <th>57</th>\n",
              "      <td>64</td>\n",
              "      <td>Two if by Sea (1996)</td>\n",
              "      <td>Comedy|Romance</td>\n",
              "      <td>2.20</td>\n",
              "      <td>5</td>\n",
              "    </tr>\n",
              "    <tr>\n",
              "      <th>63</th>\n",
              "      <td>71</td>\n",
              "      <td>Fair Game (1995)</td>\n",
              "      <td>Action</td>\n",
              "      <td>1.70</td>\n",
              "      <td>5</td>\n",
              "    </tr>\n",
              "  </tbody>\n",
              "</table>\n",
              "</div>"
            ],
            "text/plain": [
              "    filmeId  ... totalAvaliacoes\n",
              "87       99  ...               2\n",
              "98      111  ...             104\n",
              "52       58  ...              37\n",
              "97      110  ...             237\n",
              "50       55  ...               1\n",
              "94      106  ...               1\n",
              "66       74  ...               8\n",
              "69       77  ...               1\n",
              "72       80  ...               2\n",
              "96      108  ...               1\n",
              "77       86  ...              15\n",
              "83       94  ...              10\n",
              "86       97  ...              10\n",
              "74       82  ...               8\n",
              "76       85  ...               7\n",
              "89      101  ...              23\n",
              "61       69  ...              20\n",
              "54       61  ...               6\n",
              "55       62  ...              80\n",
              "99      112  ...              46\n",
              "62       70  ...              55\n",
              "85       96  ...               1\n",
              "65       73  ...              13\n",
              "92      104  ...              99\n",
              "68       76  ...              15\n",
              "60       68  ...               5\n",
              "95      107  ...              26\n",
              "70       78  ...               3\n",
              "93      105  ...              23\n",
              "80       89  ...              10\n",
              "53       60  ...              34\n",
              "64       72  ...               7\n",
              "79       88  ...              16\n",
              "73       81  ...              14\n",
              "51       57  ...               8\n",
              "84       95  ...              84\n",
              "75       83  ...               1\n",
              "91      103  ...               3\n",
              "82       93  ...               9\n",
              "88      100  ...              14\n",
              "71       79  ...              17\n",
              "56       63  ...               7\n",
              "81       92  ...               8\n",
              "58       65  ...              31\n",
              "78       87  ...               7\n",
              "59       66  ...               9\n",
              "90      102  ...               5\n",
              "67       75  ...               5\n",
              "57       64  ...               5\n",
              "63       71  ...               5\n",
              "\n",
              "[50 rows x 5 columns]"
            ]
          },
          "metadata": {
            "tags": []
          },
          "execution_count": 9
        }
      ]
    },
    {
      "cell_type": "markdown",
      "metadata": {
        "id": "n6HM670QEzi8",
        "colab_type": "text"
      },
      "source": [
        "E em seguida plotei os gráficos dos filmes que escolhi comparar entre si."
      ]
    },
    {
      "cell_type": "code",
      "metadata": {
        "id": "aiW6bJ-KZ8aK",
        "colab_type": "code",
        "colab": {}
      },
      "source": [
        "bootle_rocket = avaliacoes.query('filmeId == 101')['avaliacao']\n",
        "friday = avaliacoes.query('filmeId == 69')['avaliacao']"
      ],
      "execution_count": null,
      "outputs": []
    },
    {
      "cell_type": "code",
      "metadata": {
        "id": "ktOteMYWzv_6",
        "colab_type": "code",
        "colab": {
          "base_uri": "https://localhost:8080/",
          "height": 298
        },
        "outputId": "4c83da40-bbe0-491f-e4ca-7778138ff75e"
      },
      "source": [
        "plt.title('Distribuição das avaliações do filme \"Bootle Rocket\" (1996)')\n",
        "bootle_rocket.plot(kind='hist')\n",
        "plt.show()\n",
        "print(f\"Total de avaliações: {len(bootle_rocket)}\")"
      ],
      "execution_count": null,
      "outputs": [
        {
          "output_type": "display_data",
          "data": {
            "image/png": "[encoded data removed]",
            "text/plain": [
              "<Figure size 432x288 with 1 Axes>"
            ]
          },
          "metadata": {
            "tags": []
          }
        },
        {
          "output_type": "stream",
          "text": [
            "Total de avaliações: 23\n"
          ],
          "name": "stdout"
        }
      ]
    },
    {
      "cell_type": "code",
      "metadata": {
        "id": "l0Ws-VyXGdzJ",
        "colab_type": "code",
        "colab": {
          "base_uri": "https://localhost:8080/",
          "height": 298
        },
        "outputId": "ff519662-5c1d-4d80-886c-62c8e7db31ff"
      },
      "source": [
        "plt.title('Distribuição das avaliações do filme \"Friday\" (1995)')\n",
        "friday.plot(kind='hist')\n",
        "plt.show()\n",
        "print(f\"Total de avaliações: {len(friday)}\")"
      ],
      "execution_count": null,
      "outputs": [
        {
          "output_type": "display_data",
          "data": {
            "image/png": "[encoded data removed]",
            "text/plain": [
              "<Figure size 432x288 with 1 Axes>"
            ]
          },
          "metadata": {
            "tags": []
          }
        },
        {
          "output_type": "stream",
          "text": [
            "Total de avaliações: 20\n"
          ],
          "name": "stdout"
        }
      ]
    },
    {
      "cell_type": "markdown",
      "metadata": {
        "id": "FPEwm_o8HXzh",
        "colab_type": "text"
      },
      "source": [
        "## Desafio 03: Criar o boxplot dos 10 filmes mais votados (não é com maior média, é com mais votos!)"
      ]
    },
    {
      "cell_type": "code",
      "metadata": {
        "id": "5M4BtF8zOAPe",
        "colab_type": "code",
        "colab": {
          "base_uri": "https://localhost:8080/",
          "height": 359
        },
        "outputId": "379467e8-e8a0-4ac3-fee9-c442b46587be"
      },
      "source": [
        "top_10 = filmes.sort_values(by='totalAvaliacoes', ascending=False).head(10)\n",
        "top_10"
      ],
      "execution_count": null,
      "outputs": [
        {
          "output_type": "execute_result",
          "data": {
            "text/html": [
              "<div>\n",
              "<style scoped>\n",
              "    .dataframe tbody tr th:only-of-type {\n",
              "        vertical-align: middle;\n",
              "    }\n",
              "\n",
              "    .dataframe tbody tr th {\n",
              "        vertical-align: top;\n",
              "    }\n",
              "\n",
              "    .dataframe thead th {\n",
              "        text-align: right;\n",
              "    }\n",
              "</style>\n",
              "<table border=\"1\" class=\"dataframe\">\n",
              "  <thead>\n",
              "    <tr style=\"text-align: right;\">\n",
              "      <th></th>\n",
              "      <th>filmeId</th>\n",
              "      <th>titulo</th>\n",
              "      <th>genero</th>\n",
              "      <th>mediaAvaliacao</th>\n",
              "      <th>totalAvaliacoes</th>\n",
              "    </tr>\n",
              "  </thead>\n",
              "  <tbody>\n",
              "    <tr>\n",
              "      <th>314</th>\n",
              "      <td>356</td>\n",
              "      <td>Forrest Gump (1994)</td>\n",
              "      <td>Comedy|Drama|Romance|War</td>\n",
              "      <td>4.16</td>\n",
              "      <td>329</td>\n",
              "    </tr>\n",
              "    <tr>\n",
              "      <th>277</th>\n",
              "      <td>318</td>\n",
              "      <td>Shawshank Redemption, The (1994)</td>\n",
              "      <td>Crime|Drama</td>\n",
              "      <td>4.43</td>\n",
              "      <td>317</td>\n",
              "    </tr>\n",
              "    <tr>\n",
              "      <th>257</th>\n",
              "      <td>296</td>\n",
              "      <td>Pulp Fiction (1994)</td>\n",
              "      <td>Comedy|Crime|Drama|Thriller</td>\n",
              "      <td>4.20</td>\n",
              "      <td>307</td>\n",
              "    </tr>\n",
              "    <tr>\n",
              "      <th>510</th>\n",
              "      <td>593</td>\n",
              "      <td>Silence of the Lambs, The (1991)</td>\n",
              "      <td>Crime|Horror|Thriller</td>\n",
              "      <td>4.16</td>\n",
              "      <td>279</td>\n",
              "    </tr>\n",
              "    <tr>\n",
              "      <th>1939</th>\n",
              "      <td>2571</td>\n",
              "      <td>Matrix, The (1999)</td>\n",
              "      <td>Action|Sci-Fi|Thriller</td>\n",
              "      <td>4.19</td>\n",
              "      <td>278</td>\n",
              "    </tr>\n",
              "    <tr>\n",
              "      <th>224</th>\n",
              "      <td>260</td>\n",
              "      <td>Star Wars: Episode IV - A New Hope (1977)</td>\n",
              "      <td>Action|Adventure|Sci-Fi</td>\n",
              "      <td>4.23</td>\n",
              "      <td>251</td>\n",
              "    </tr>\n",
              "    <tr>\n",
              "      <th>418</th>\n",
              "      <td>480</td>\n",
              "      <td>Jurassic Park (1993)</td>\n",
              "      <td>Action|Adventure|Sci-Fi|Thriller</td>\n",
              "      <td>3.75</td>\n",
              "      <td>238</td>\n",
              "    </tr>\n",
              "    <tr>\n",
              "      <th>97</th>\n",
              "      <td>110</td>\n",
              "      <td>Braveheart (1995)</td>\n",
              "      <td>Action|Drama|War</td>\n",
              "      <td>4.03</td>\n",
              "      <td>237</td>\n",
              "    </tr>\n",
              "    <tr>\n",
              "      <th>507</th>\n",
              "      <td>589</td>\n",
              "      <td>Terminator 2: Judgment Day (1991)</td>\n",
              "      <td>Action|Sci-Fi</td>\n",
              "      <td>3.97</td>\n",
              "      <td>224</td>\n",
              "    </tr>\n",
              "    <tr>\n",
              "      <th>461</th>\n",
              "      <td>527</td>\n",
              "      <td>Schindler's List (1993)</td>\n",
              "      <td>Drama|War</td>\n",
              "      <td>4.22</td>\n",
              "      <td>220</td>\n",
              "    </tr>\n",
              "  </tbody>\n",
              "</table>\n",
              "</div>"
            ],
            "text/plain": [
              "      filmeId  ... totalAvaliacoes\n",
              "314       356  ...             329\n",
              "277       318  ...             317\n",
              "257       296  ...             307\n",
              "510       593  ...             279\n",
              "1939     2571  ...             278\n",
              "224       260  ...             251\n",
              "418       480  ...             238\n",
              "97        110  ...             237\n",
              "507       589  ...             224\n",
              "461       527  ...             220\n",
              "\n",
              "[10 rows x 5 columns]"
            ]
          },
          "metadata": {
            "tags": []
          },
          "execution_count": 34
        }
      ]
    },
    {
      "cell_type": "code",
      "metadata": {
        "id": "2q3_ghGCI2E3",
        "colab_type": "code",
        "colab": {
          "base_uri": "https://localhost:8080/",
          "height": 404
        },
        "outputId": "4c01eeef-42ee-477e-dfae-35f40763908b"
      },
      "source": [
        "plt.figure(figsize=(12, 6))\n",
        "plt.title('Top 10 filmes mais avaliados')\n",
        "filmes_mais_avaliados = avaliacoes.query(f'filmeId in [356,318,296,593,2571,260,480,110,589,527]')\n",
        "sns.boxplot(data=filmes_mais_avaliados, x='filmeId', y='avaliacao')\n",
        "plt.show()"
      ],
      "execution_count": null,
      "outputs": [
        {
          "output_type": "display_data",
          "data": {
            "image/png": "[encoded data removed]",
            "text/plain": [
              "<Figure size 864x432 with 1 Axes>"
            ]
          },
          "metadata": {
            "tags": []
          }
        }
      ]
    },
    {
      "cell_type": "markdown",
      "metadata": {
        "id": "9_rEJPi7RuWR",
        "colab_type": "text"
      },
      "source": [
        "## Desafio 04: O boxplot estar num tamanho adequado e com os NOMES dos filmes nos ticks"
      ]
    },
    {
      "cell_type": "code",
      "metadata": {
        "id": "QMAkP9mPR56P",
        "colab_type": "code",
        "colab": {
          "base_uri": "https://localhost:8080/",
          "height": 187
        },
        "outputId": "de2556a1-92a4-4b0e-adb9-2daf42f7fd55"
      },
      "source": [
        "ticks_list = [name[:-7] for name in top_10['titulo']]\n",
        "ticks_list\n",
        "flw = {}"
      ],
      "execution_count": null,
      "outputs": [
        {
          "output_type": "execute_result",
          "data": {
            "text/plain": [
              "['Forrest Gump',\n",
              " 'Shawshank Redemption, The',\n",
              " 'Pulp Fiction',\n",
              " 'Silence of the Lambs, The',\n",
              " 'Matrix, The',\n",
              " 'Star Wars: Episode IV - A New Hope',\n",
              " 'Jurassic Park',\n",
              " 'Braveheart',\n",
              " 'Terminator 2: Judgment Day',\n",
              " \"Schindler's List\"]"
            ]
          },
          "metadata": {
            "tags": []
          },
          "execution_count": 38
        }
      ]
    },
    {
      "cell_type": "code",
      "metadata": {
        "id": "oo8nwnp0aHUy",
        "colab_type": "code",
        "colab": {
          "base_uri": "https://localhost:8080/",
          "height": 404
        },
        "outputId": "c001014d-d0c2-4cfa-dd71-0f3a4404a887"
      },
      "source": [
        "plt.figure(figsize=(12, 6))\n",
        "plt.title('Top 10 filmes mais avaliados')\n",
        "filmes_mais_avaliados = avaliacoes.query(f'filmeId in [356,318,296,593,2571,260,480,110,589,527]')\n",
        "sns.boxplot(data=filmes_mais_avaliados, x='filmeId', y='avaliacao')\n",
        "#plt.xlabel(ticks_list)\n",
        "plt.show()"
      ],
      "execution_count": null,
      "outputs": [
        {
          "output_type": "display_data",
          "data": {
            "image/png": "[encoded data removed]",
            "text/plain": [
              "<Figure size 864x432 with 1 Axes>"
            ]
          },
          "metadata": {
            "tags": []
          }
        }
      ]
    },
    {
      "cell_type": "code",
      "metadata": {
        "id": "JHH1Px7re2Sb",
        "colab_type": "code",
        "colab": {
          "base_uri": "https://localhost:8080/",
          "height": 419
        },
        "outputId": "422b462a-098e-4ad3-ff49-848f7d992fed"
      },
      "source": [
        "filmes_mais_avaliados"
      ],
      "execution_count": null,
      "outputs": [
        {
          "output_type": "execute_result",
          "data": {
            "text/html": [
              "<div>\n",
              "<style scoped>\n",
              "    .dataframe tbody tr th:only-of-type {\n",
              "        vertical-align: middle;\n",
              "    }\n",
              "\n",
              "    .dataframe tbody tr th {\n",
              "        vertical-align: top;\n",
              "    }\n",
              "\n",
              "    .dataframe thead th {\n",
              "        text-align: right;\n",
              "    }\n",
              "</style>\n",
              "<table border=\"1\" class=\"dataframe\">\n",
              "  <thead>\n",
              "    <tr style=\"text-align: right;\">\n",
              "      <th></th>\n",
              "      <th>usuarioId</th>\n",
              "      <th>filmeId</th>\n",
              "      <th>avaliacao</th>\n",
              "      <th>momento</th>\n",
              "    </tr>\n",
              "  </thead>\n",
              "  <tbody>\n",
              "    <tr>\n",
              "      <th>7</th>\n",
              "      <td>1</td>\n",
              "      <td>110</td>\n",
              "      <td>4.0</td>\n",
              "      <td>964982176</td>\n",
              "    </tr>\n",
              "    <tr>\n",
              "      <th>15</th>\n",
              "      <td>1</td>\n",
              "      <td>260</td>\n",
              "      <td>5.0</td>\n",
              "      <td>964981680</td>\n",
              "    </tr>\n",
              "    <tr>\n",
              "      <th>16</th>\n",
              "      <td>1</td>\n",
              "      <td>296</td>\n",
              "      <td>3.0</td>\n",
              "      <td>964982967</td>\n",
              "    </tr>\n",
              "    <tr>\n",
              "      <th>20</th>\n",
              "      <td>1</td>\n",
              "      <td>356</td>\n",
              "      <td>4.0</td>\n",
              "      <td>964980962</td>\n",
              "    </tr>\n",
              "    <tr>\n",
              "      <th>26</th>\n",
              "      <td>1</td>\n",
              "      <td>480</td>\n",
              "      <td>4.0</td>\n",
              "      <td>964982346</td>\n",
              "    </tr>\n",
              "    <tr>\n",
              "      <th>...</th>\n",
              "      <td>...</td>\n",
              "      <td>...</td>\n",
              "      <td>...</td>\n",
              "      <td>...</td>\n",
              "    </tr>\n",
              "    <tr>\n",
              "      <th>99569</th>\n",
              "      <td>610</td>\n",
              "      <td>480</td>\n",
              "      <td>5.0</td>\n",
              "      <td>1479545821</td>\n",
              "    </tr>\n",
              "    <tr>\n",
              "      <th>99571</th>\n",
              "      <td>610</td>\n",
              "      <td>527</td>\n",
              "      <td>3.5</td>\n",
              "      <td>1479545826</td>\n",
              "    </tr>\n",
              "    <tr>\n",
              "      <th>99573</th>\n",
              "      <td>610</td>\n",
              "      <td>589</td>\n",
              "      <td>5.0</td>\n",
              "      <td>1479542983</td>\n",
              "    </tr>\n",
              "    <tr>\n",
              "      <th>99575</th>\n",
              "      <td>610</td>\n",
              "      <td>593</td>\n",
              "      <td>4.5</td>\n",
              "      <td>1479545819</td>\n",
              "    </tr>\n",
              "    <tr>\n",
              "      <th>99684</th>\n",
              "      <td>610</td>\n",
              "      <td>2571</td>\n",
              "      <td>5.0</td>\n",
              "      <td>1479545822</td>\n",
              "    </tr>\n",
              "  </tbody>\n",
              "</table>\n",
              "<p>2680 rows × 4 columns</p>\n",
              "</div>"
            ],
            "text/plain": [
              "       usuarioId  filmeId  avaliacao     momento\n",
              "7              1      110        4.0   964982176\n",
              "15             1      260        5.0   964981680\n",
              "16             1      296        3.0   964982967\n",
              "20             1      356        4.0   964980962\n",
              "26             1      480        4.0   964982346\n",
              "...          ...      ...        ...         ...\n",
              "99569        610      480        5.0  1479545821\n",
              "99571        610      527        3.5  1479545826\n",
              "99573        610      589        5.0  1479542983\n",
              "99575        610      593        4.5  1479545819\n",
              "99684        610     2571        5.0  1479545822\n",
              "\n",
              "[2680 rows x 4 columns]"
            ]
          },
          "metadata": {
            "tags": []
          },
          "execution_count": 48
        }
      ]
    },
    {
      "cell_type": "code",
      "metadata": {
        "id": "B5a7HP1Rcgx6",
        "colab_type": "code",
        "colab": {
          "base_uri": "https://localhost:8080/",
          "height": 390
        },
        "outputId": "85815f73-3488-4651-a328-f0d5fe5bbf43"
      },
      "source": [
        "plt.figure(figsize=(12, 6))\n",
        "plt.title('Top 10 filmes mais avaliados')\n",
        "plt.boxplot(x=filmes_mais_avaliados, labels=filmes_mais_avaliados[''])\n",
        "plt.show()"
      ],
      "execution_count": null,
      "outputs": [
        {
          "output_type": "display_data",
          "data": {
            "image/png": "[encoded data removed]",
            "text/plain": [
              "<Figure size 864x432 with 1 Axes>"
            ]
          },
          "metadata": {
            "tags": []
          }
        }
      ]
    },
    {
      "cell_type": "markdown",
      "metadata": {
        "id": "OL3-4-7CTEdO",
        "colab_type": "text"
      },
      "source": [
        "## Desafio 05: Calcular moda, média e mediana dos filmes. Explore filmes com notas mais próximas de 0.5, 3 e 5"
      ]
    },
    {
      "cell_type": "code",
      "metadata": {
        "id": "_xcrJxXHTkJs",
        "colab_type": "code",
        "colab": {
          "base_uri": "https://localhost:8080/",
          "height": 669
        },
        "outputId": "7ec5337c-6b8e-4b1f-808a-cfdec7efbe6b"
      },
      "source": [
        "filmes.query('(mediaAvaliacao >= 4.5 and mediaAvaliacao <= 5) and totalAvaliacoes > 3').sort_values(by='mediaAvaliacao', ascending=False).head(20)"
      ],
      "execution_count": null,
      "outputs": [
        {
          "output_type": "execute_result",
          "data": {
            "text/html": [
              "<div>\n",
              "<style scoped>\n",
              "    .dataframe tbody tr th:only-of-type {\n",
              "        vertical-align: middle;\n",
              "    }\n",
              "\n",
              "    .dataframe tbody tr th {\n",
              "        vertical-align: top;\n",
              "    }\n",
              "\n",
              "    .dataframe thead th {\n",
              "        text-align: right;\n",
              "    }\n",
              "</style>\n",
              "<table border=\"1\" class=\"dataframe\">\n",
              "  <thead>\n",
              "    <tr style=\"text-align: right;\">\n",
              "      <th></th>\n",
              "      <th>filmeId</th>\n",
              "      <th>titulo</th>\n",
              "      <th>genero</th>\n",
              "      <th>mediaAvaliacao</th>\n",
              "      <th>totalAvaliacoes</th>\n",
              "    </tr>\n",
              "  </thead>\n",
              "  <tbody>\n",
              "    <tr>\n",
              "      <th>4396</th>\n",
              "      <td>6460</td>\n",
              "      <td>Trial, The (Procès, Le) (1962)</td>\n",
              "      <td>Drama</td>\n",
              "      <td>4.90</td>\n",
              "      <td>5</td>\n",
              "    </tr>\n",
              "    <tr>\n",
              "      <th>9618</th>\n",
              "      <td>177593</td>\n",
              "      <td>Three Billboards Outside Ebbing, Missouri (2017)</td>\n",
              "      <td>Crime|Drama</td>\n",
              "      <td>4.75</td>\n",
              "      <td>8</td>\n",
              "    </tr>\n",
              "    <tr>\n",
              "      <th>9570</th>\n",
              "      <td>174053</td>\n",
              "      <td>Black Mirror: White Christmas (2014)</td>\n",
              "      <td>Drama|Horror|Mystery|Sci-Fi|Thriller</td>\n",
              "      <td>4.75</td>\n",
              "      <td>4</td>\n",
              "    </tr>\n",
              "    <tr>\n",
              "      <th>4782</th>\n",
              "      <td>7121</td>\n",
              "      <td>Adam's Rib (1949)</td>\n",
              "      <td>Comedy|Romance</td>\n",
              "      <td>4.75</td>\n",
              "      <td>4</td>\n",
              "    </tr>\n",
              "    <tr>\n",
              "      <th>2424</th>\n",
              "      <td>3224</td>\n",
              "      <td>Woman in the Dunes (Suna no onna) (1964)</td>\n",
              "      <td>Drama</td>\n",
              "      <td>4.75</td>\n",
              "      <td>4</td>\n",
              "    </tr>\n",
              "    <tr>\n",
              "      <th>5773</th>\n",
              "      <td>31364</td>\n",
              "      <td>Memories of Murder (Salinui chueok) (2003)</td>\n",
              "      <td>Crime|Drama|Mystery|Thriller</td>\n",
              "      <td>4.70</td>\n",
              "      <td>5</td>\n",
              "    </tr>\n",
              "    <tr>\n",
              "      <th>1664</th>\n",
              "      <td>2239</td>\n",
              "      <td>Swept Away (Travolti da un insolito destino ne...</td>\n",
              "      <td>Comedy|Drama</td>\n",
              "      <td>4.67</td>\n",
              "      <td>6</td>\n",
              "    </tr>\n",
              "    <tr>\n",
              "      <th>6573</th>\n",
              "      <td>55167</td>\n",
              "      <td>Tekkonkinkreet (Tekkon kinkurîto) (2006)</td>\n",
              "      <td>Action|Adventure|Animation|Crime|Fantasy</td>\n",
              "      <td>4.62</td>\n",
              "      <td>4</td>\n",
              "    </tr>\n",
              "    <tr>\n",
              "      <th>6120</th>\n",
              "      <td>43376</td>\n",
              "      <td>Sophie Scholl: The Final Days (Sophie Scholl -...</td>\n",
              "      <td>Drama|War</td>\n",
              "      <td>4.62</td>\n",
              "      <td>4</td>\n",
              "    </tr>\n",
              "    <tr>\n",
              "      <th>6022</th>\n",
              "      <td>38304</td>\n",
              "      <td>No Direction Home: Bob Dylan (2005)</td>\n",
              "      <td>Documentary</td>\n",
              "      <td>4.62</td>\n",
              "      <td>4</td>\n",
              "    </tr>\n",
              "    <tr>\n",
              "      <th>1589</th>\n",
              "      <td>2131</td>\n",
              "      <td>Autumn Sonata (Höstsonaten) (1978)</td>\n",
              "      <td>Drama</td>\n",
              "      <td>4.62</td>\n",
              "      <td>4</td>\n",
              "    </tr>\n",
              "    <tr>\n",
              "      <th>3210</th>\n",
              "      <td>4334</td>\n",
              "      <td>Yi Yi (2000)</td>\n",
              "      <td>Drama</td>\n",
              "      <td>4.60</td>\n",
              "      <td>5</td>\n",
              "    </tr>\n",
              "    <tr>\n",
              "      <th>796</th>\n",
              "      <td>1041</td>\n",
              "      <td>Secrets &amp; Lies (1996)</td>\n",
              "      <td>Drama</td>\n",
              "      <td>4.59</td>\n",
              "      <td>11</td>\n",
              "    </tr>\n",
              "    <tr>\n",
              "      <th>8301</th>\n",
              "      <td>106642</td>\n",
              "      <td>Day of the Doctor, The (2013)</td>\n",
              "      <td>Adventure|Drama|Sci-Fi</td>\n",
              "      <td>4.57</td>\n",
              "      <td>7</td>\n",
              "    </tr>\n",
              "    <tr>\n",
              "      <th>2582</th>\n",
              "      <td>3451</td>\n",
              "      <td>Guess Who's Coming to Dinner (1967)</td>\n",
              "      <td>Drama</td>\n",
              "      <td>4.55</td>\n",
              "      <td>11</td>\n",
              "    </tr>\n",
              "    <tr>\n",
              "      <th>883</th>\n",
              "      <td>1178</td>\n",
              "      <td>Paths of Glory (1957)</td>\n",
              "      <td>Drama|War</td>\n",
              "      <td>4.54</td>\n",
              "      <td>12</td>\n",
              "    </tr>\n",
              "    <tr>\n",
              "      <th>2524</th>\n",
              "      <td>3384</td>\n",
              "      <td>Taking of Pelham One Two Three, The (1974)</td>\n",
              "      <td>Action|Crime</td>\n",
              "      <td>4.50</td>\n",
              "      <td>4</td>\n",
              "    </tr>\n",
              "    <tr>\n",
              "      <th>799</th>\n",
              "      <td>1046</td>\n",
              "      <td>Beautiful Thing (1996)</td>\n",
              "      <td>Drama|Romance</td>\n",
              "      <td>4.50</td>\n",
              "      <td>4</td>\n",
              "    </tr>\n",
              "    <tr>\n",
              "      <th>2453</th>\n",
              "      <td>3266</td>\n",
              "      <td>Man Bites Dog (C'est arrivé près de chez vous)...</td>\n",
              "      <td>Comedy|Crime|Drama|Thriller</td>\n",
              "      <td>4.50</td>\n",
              "      <td>6</td>\n",
              "    </tr>\n",
              "    <tr>\n",
              "      <th>2411</th>\n",
              "      <td>3201</td>\n",
              "      <td>Five Easy Pieces (1970)</td>\n",
              "      <td>Drama</td>\n",
              "      <td>4.50</td>\n",
              "      <td>8</td>\n",
              "    </tr>\n",
              "  </tbody>\n",
              "</table>\n",
              "</div>"
            ],
            "text/plain": [
              "      filmeId  ... totalAvaliacoes\n",
              "4396     6460  ...               5\n",
              "9618   177593  ...               8\n",
              "9570   174053  ...               4\n",
              "4782     7121  ...               4\n",
              "2424     3224  ...               4\n",
              "5773    31364  ...               5\n",
              "1664     2239  ...               6\n",
              "6573    55167  ...               4\n",
              "6120    43376  ...               4\n",
              "6022    38304  ...               4\n",
              "1589     2131  ...               4\n",
              "3210     4334  ...               5\n",
              "796      1041  ...              11\n",
              "8301   106642  ...               7\n",
              "2582     3451  ...              11\n",
              "883      1178  ...              12\n",
              "2524     3384  ...               4\n",
              "799      1046  ...               4\n",
              "2453     3266  ...               6\n",
              "2411     3201  ...               8\n",
              "\n",
              "[20 rows x 5 columns]"
            ]
          },
          "metadata": {
            "tags": []
          },
          "execution_count": 15
        }
      ]
    },
    {
      "cell_type": "code",
      "metadata": {
        "id": "Q3MfpiQ_1qNq",
        "colab_type": "code",
        "colab": {
          "base_uri": "https://localhost:8080/",
          "height": 80
        },
        "outputId": "87066224-02cd-4de2-ad3f-4e3ad668d7c4"
      },
      "source": [
        "filmes.query('filmeId == 1041')"
      ],
      "execution_count": null,
      "outputs": [
        {
          "output_type": "execute_result",
          "data": {
            "text/html": [
              "<div>\n",
              "<style scoped>\n",
              "    .dataframe tbody tr th:only-of-type {\n",
              "        vertical-align: middle;\n",
              "    }\n",
              "\n",
              "    .dataframe tbody tr th {\n",
              "        vertical-align: top;\n",
              "    }\n",
              "\n",
              "    .dataframe thead th {\n",
              "        text-align: right;\n",
              "    }\n",
              "</style>\n",
              "<table border=\"1\" class=\"dataframe\">\n",
              "  <thead>\n",
              "    <tr style=\"text-align: right;\">\n",
              "      <th></th>\n",
              "      <th>filmeId</th>\n",
              "      <th>titulo</th>\n",
              "      <th>genero</th>\n",
              "      <th>mediaAvaliacao</th>\n",
              "      <th>totalAvaliacoes</th>\n",
              "    </tr>\n",
              "  </thead>\n",
              "  <tbody>\n",
              "    <tr>\n",
              "      <th>796</th>\n",
              "      <td>1041</td>\n",
              "      <td>Secrets &amp; Lies (1996)</td>\n",
              "      <td>Drama</td>\n",
              "      <td>4.59</td>\n",
              "      <td>11</td>\n",
              "    </tr>\n",
              "  </tbody>\n",
              "</table>\n",
              "</div>"
            ],
            "text/plain": [
              "     filmeId                 titulo genero  mediaAvaliacao  totalAvaliacoes\n",
              "796     1041  Secrets & Lies (1996)  Drama            4.59               11"
            ]
          },
          "metadata": {
            "tags": []
          },
          "execution_count": 16
        }
      ]
    },
    {
      "cell_type": "code",
      "metadata": {
        "id": "WdhRTUayhuD3",
        "colab_type": "code",
        "colab": {
          "base_uri": "https://localhost:8080/",
          "height": 85
        },
        "outputId": "2c914dbc-33bb-424e-8761-fb076ce7c152"
      },
      "source": [
        "filme_1760 = avaliacoes.query('filmeId == 1760')['avaliacao']\n",
        "print('Centralidades do filme \"Spice World\"')\n",
        "print(f'Média: {filme_1760.mean()}')\n",
        "print(f'Mediana: {filme_1760.median()}')\n",
        "print(f'Moda: {filme_1760.mode()[0]}')"
      ],
      "execution_count": null,
      "outputs": [
        {
          "output_type": "stream",
          "text": [
            "Centralidades do filme \"Spice World\"\n",
            "Média: 1.35\n",
            "Mediana: 1.0\n",
            "Moda: 0.5\n"
          ],
          "name": "stdout"
        }
      ]
    },
    {
      "cell_type": "code",
      "metadata": {
        "id": "KtgVvZtm3Khi",
        "colab_type": "code",
        "colab": {
          "base_uri": "https://localhost:8080/",
          "height": 85
        },
        "outputId": "ef57f61b-f76a-4a73-9750-ad4866837638"
      },
      "source": [
        "filme_312 = avaliacoes.query('filmeId == 312')['avaliacao']\n",
        "print('Centralidades do filme \"Stuart Saves His Family\"')\n",
        "print(f'Média: {filme_312.mean()}')\n",
        "print(f'Mediana: {filme_312.median()}')\n",
        "print(f'Moda: {filme_312.mode()[0]}')"
      ],
      "execution_count": null,
      "outputs": [
        {
          "output_type": "stream",
          "text": [
            "Centralidades do filme \"Stuart Saves His Family\"\n",
            "Média: 1.4444444444444444\n",
            "Mediana: 1.0\n",
            "Moda: 1.0\n"
          ],
          "name": "stdout"
        }
      ]
    },
    {
      "cell_type": "code",
      "metadata": {
        "id": "JqYKZIDj4bYD",
        "colab_type": "code",
        "colab": {
          "base_uri": "https://localhost:8080/",
          "height": 85
        },
        "outputId": "6d5fd153-c576-4c76-c252-a03bc9a1d2ab"
      },
      "source": [
        "filme_380 = avaliacoes.query('filmeId == 380')['avaliacao']\n",
        "print('Centralidades do filme \"True Lies\"')\n",
        "print(f'Média: {filme_380.mean()}')\n",
        "print(f'Mediana: {filme_380.median()}')\n",
        "print(f'Moda: {filme_380.mode()[0]}')"
      ],
      "execution_count": null,
      "outputs": [
        {
          "output_type": "stream",
          "text": [
            "Centralidades do filme \"True Lies\"\n",
            "Média: 3.497191011235955\n",
            "Mediana: 3.5\n",
            "Moda: 3.0\n"
          ],
          "name": "stdout"
        }
      ]
    },
    {
      "cell_type": "code",
      "metadata": {
        "id": "wJeEmbSG4sI1",
        "colab_type": "code",
        "colab": {
          "base_uri": "https://localhost:8080/",
          "height": 85
        },
        "outputId": "6534d967-718f-4551-cc67-c3749a7da11d"
      },
      "source": [
        "filme_368 = avaliacoes.query('filmeId == 368')['avaliacao']\n",
        "print('Centralidades do filme \"Maverick\"')\n",
        "print(f'Média: {filme_368.mean()}')\n",
        "print(f'Mediana: {filme_368.median()}')\n",
        "print(f'Moda: {filme_368.mode()[0]}')"
      ],
      "execution_count": null,
      "outputs": [
        {
          "output_type": "stream",
          "text": [
            "Centralidades do filme \"Maverick\"\n",
            "Média: 3.5\n",
            "Mediana: 3.5\n",
            "Moda: 4.0\n"
          ],
          "name": "stdout"
        }
      ]
    },
    {
      "cell_type": "code",
      "metadata": {
        "id": "U4tdcHEx6SmG",
        "colab_type": "code",
        "colab": {
          "base_uri": "https://localhost:8080/",
          "height": 85
        },
        "outputId": "35c700df-57ff-466f-8a6b-e4f0a2a41966"
      },
      "source": [
        "filme_1178 = avaliacoes.query('filmeId == 1178')['avaliacao']\n",
        "print('Centralidades do filme \"Paths of Glory\"')\n",
        "print(f'Média: {filme_1178.mean()}')\n",
        "print(f'Mediana: {filme_1178.median()}')\n",
        "print(f'Moda: {filme_1178.mode()[0]}')"
      ],
      "execution_count": null,
      "outputs": [
        {
          "output_type": "stream",
          "text": [
            "Centralidades do filme \"Paths of Glory\"\n",
            "Média: 4.541666666666667\n",
            "Mediana: 4.75\n",
            "Moda: 5.0\n"
          ],
          "name": "stdout"
        }
      ]
    },
    {
      "cell_type": "code",
      "metadata": {
        "id": "LnTjVzNQ_U5E",
        "colab_type": "code",
        "colab": {
          "base_uri": "https://localhost:8080/",
          "height": 85
        },
        "outputId": "08401849-d14a-4a21-d293-d494ad04e8d3"
      },
      "source": [
        "filme_1041 = avaliacoes.query('filmeId == 1041')['avaliacao']\n",
        "print('Centralidades do filme \"Secrets & Lies\"')\n",
        "print(f'Média: {filme_1041.mean()}')\n",
        "print(f'Mediana: {filme_1041.median()}')\n",
        "print(f'Moda: {filme_1041.mode()[0]}')"
      ],
      "execution_count": null,
      "outputs": [
        {
          "output_type": "stream",
          "text": [
            "Centralidades do filme \"Secrets & Lies\"\n",
            "Média: 4.590909090909091\n",
            "Mediana: 5.0\n",
            "Moda: 5.0\n"
          ],
          "name": "stdout"
        }
      ]
    },
    {
      "cell_type": "markdown",
      "metadata": {
        "id": "bPTzj1A6AR9N",
        "colab_type": "text"
      },
      "source": [
        "## Desafio 06: Plotar o boxplot e o histograma de um determinado filme um do lado do outro (no mesmo gráfico ou em gráficos distintos)"
      ]
    },
    {
      "cell_type": "code",
      "metadata": {
        "id": "McJR_7jTAVzT",
        "colab_type": "code",
        "colab": {}
      },
      "source": [
        ""
      ],
      "execution_count": null,
      "outputs": []
    }
  ]
}